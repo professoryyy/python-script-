{
 "cells": [
  {
   "cell_type": "code",
   "execution_count": 24,
   "id": "d2664256",
   "metadata": {},
   "outputs": [
    {
     "ename": "KeyboardInterrupt",
     "evalue": "",
     "output_type": "error",
     "traceback": [
      "\u001b[1;31m---------------------------------------------------------------------------\u001b[0m",
      "\u001b[1;31mKeyboardInterrupt\u001b[0m                         Traceback (most recent call last)",
      "\u001b[1;32m<ipython-input-24-35480cf40a40>\u001b[0m in \u001b[0;36m<module>\u001b[1;34m\u001b[0m\n\u001b[0;32m     22\u001b[0m         \u001b[0mwinsound\u001b[0m\u001b[1;33m.\u001b[0m\u001b[0mBeep\u001b[0m\u001b[1;33m(\u001b[0m\u001b[1;36m2000\u001b[0m\u001b[1;33m,\u001b[0m \u001b[1;36m1000\u001b[0m\u001b[1;33m)\u001b[0m\u001b[1;33m\u001b[0m\u001b[1;33m\u001b[0m\u001b[0m\n\u001b[0;32m     23\u001b[0m \u001b[1;33m\u001b[0m\u001b[0m\n\u001b[1;32m---> 24\u001b[1;33m \u001b[0mtime\u001b[0m\u001b[1;33m.\u001b[0m\u001b[0msleep\u001b[0m\u001b[1;33m(\u001b[0m\u001b[1;36m60\u001b[0m\u001b[1;33m)\u001b[0m\u001b[1;33m\u001b[0m\u001b[1;33m\u001b[0m\u001b[0m\n\u001b[0m\u001b[0;32m     25\u001b[0m \u001b[0mdriver\u001b[0m\u001b[1;33m.\u001b[0m\u001b[0mquit\u001b[0m\u001b[1;33m(\u001b[0m\u001b[1;33m)\u001b[0m\u001b[1;33m\u001b[0m\u001b[1;33m\u001b[0m\u001b[0m\n",
      "\u001b[1;31mKeyboardInterrupt\u001b[0m: "
     ]
    }
   ],
   "source": [
    "from selenium import webdriver\n",
    "import winsound\n",
    "import time\n",
    "\n",
    "\n",
    "while(1):\n",
    "    \n",
    "    driver=webdriver.Chrome('E:\\\\Program Files\\\\chrome\\\\chromedriver.exe')\n",
    "    # 打开浏览器\n",
    "    driver.get(\"https://www.thehealthembassy-rdv.com/bookings-checkout/pcr-igm-or-2-pcr-8h-test/book\")\n",
    "    # 进入网页\n",
    "    time.sleep(30)\n",
    "    # 等待加载网页30s\n",
    "    iframe = driver.find_element_by_xpath(\"/html/body/div/div/div[3]/div/main/div/div/div/div[2]/div/div/div/div/iframe\")\n",
    "    driver.switch_to.frame(iframe)\n",
    "    day22 = driver.find_element_by_xpath(\"/html/body/main/div/bks-app/div/div[1]/boost-calendar-page/div[2]/div/div/boost-visitor-calendar-controls/div/div[1]/div/div[2]/controlled-calendar/boost-visitor-calendar/div/div/div/table/tbody/tr/td/div/div/div[4]/div[1]/table/tbody/tr/td[3]\")\n",
    "    day29 = driver.find_element_by_xpath(\"/html/body/main/div/bks-app/div/div[1]/boost-calendar-page/div[2]/div/div/boost-visitor-calendar-controls/div/div[1]/div/div[2]/controlled-calendar/boost-visitor-calendar/div/div/div/table/tbody/tr/td/div/div/div[5]/div[1]/table/tbody/tr/td[3]\")\n",
    "    # 得到22号和29号元素，其中22号是可以预约的元素，其class名称与不可预约元素不一样\n",
    "    # 22号目前是可预约状态： 'fc-day fc-widget-content fc-wed fc-future fc-has-event'\n",
    "    # 29号目前是不可预约状态：'fc-day fc-widget-content fc-wed fc-future'\n",
    "    # 二者相比 可预约的多了一个fc-has-event\n",
    "    # 由此用以下 if 判断是否发生变化，发生变化则电脑发出“滴滴滴”的警告音\n",
    "    if(day29.get_attribute(name=\"class\") != 'fc-day fc-widget-content fc-wed fc-future') : \n",
    "        while(1):\n",
    "            winsound.Beep(2000, 100)\n",
    "            winsound.Beep(2000, 1000)\n",
    "            # 若要停止报警，请中断jupyter内核\n",
    "    time.sleep(60)\n",
    "    driver.quit()\n",
    "    # 等待60后退出浏览器\n",
    "    time.sleep(60)\n",
    "    #等待六十秒开始下次循环"
   ]
  },
  {
   "cell_type": "code",
   "execution_count": 26,
   "id": "0a136011",
   "metadata": {},
   "outputs": [
    {
     "data": {
      "text/plain": [
       "'fc-day fc-widget-content fc-wed fc-future fc-has-event'"
      ]
     },
     "execution_count": 26,
     "metadata": {},
     "output_type": "execute_result"
    }
   ],
   "source": [
    "day22.get_attribute(name=\"class\")"
   ]
  },
  {
   "cell_type": "code",
   "execution_count": null,
   "id": "10206aea",
   "metadata": {},
   "outputs": [],
   "source": []
  }
 ],
 "metadata": {
  "kernelspec": {
   "display_name": "Python 3",
   "language": "python",
   "name": "python3"
  },
  "language_info": {
   "codemirror_mode": {
    "name": "ipython",
    "version": 3
   },
   "file_extension": ".py",
   "mimetype": "text/x-python",
   "name": "python",
   "nbconvert_exporter": "python",
   "pygments_lexer": "ipython3",
   "version": "3.8.8"
  }
 },
 "nbformat": 4,
 "nbformat_minor": 5
}
